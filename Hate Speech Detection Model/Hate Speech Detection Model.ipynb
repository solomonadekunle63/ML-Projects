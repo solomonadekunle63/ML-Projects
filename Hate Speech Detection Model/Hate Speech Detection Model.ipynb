{
 "cells": [
  {
   "cell_type": "code",
   "execution_count": 1,
   "metadata": {},
   "outputs": [],
   "source": [
    "# Import necessary libraries for data manipulation, regular expressions, and machine learning\n",
    "import pandas as pd\n",
    "import re\n",
    "\n",
    "# Import scikit-learn utilities and classes\n",
    "from sklearn.utils import resample\n",
    "from sklearn.feature_extraction.text import TfidfVectorizer\n",
    "from sklearn.pipeline import Pipeline\n",
    "from sklearn.feature_extraction.text import CountVectorizer\n",
    "from sklearn.feature_extraction.text import TfidfTransformer\n",
    "from sklearn.linear_model import SGDClassifier\n",
    "from sklearn.model_selection import train_test_split\n",
    "from sklearn.metrics import f1_score, accuracy_score, precision_score, recall_score"
   ]
  },
  {
   "cell_type": "code",
   "execution_count": 2,
   "metadata": {
    "colab": {
     "base_uri": "https://localhost:8080/"
    },
    "id": "YT0bnhroOA9S",
    "outputId": "1dc4e929-ab7d-4e21-c5f4-403f2d4bdd29"
   },
   "outputs": [
    {
     "name": "stdout",
     "output_type": "stream",
     "text": [
      "Training Set: Columns: Index(['id', 'label', 'tweet'], dtype='object'), Shape: (31962, 3), Length: 31962\n",
      "Test Set: Columns: Index(['id', 'tweet'], dtype='object'), Shape: (17197, 2), Length: 17197\n"
     ]
    }
   ],
   "source": [
    "# Load the training dataset\n",
    "train = pd.read_csv('train.csv')\n",
    "\n",
    "# Print the columns, shape (rows and columns), and the length (number of rows) of the training set\n",
    "print(\"Training Set: Columns: {}, Shape: {}, Length: {}\".format(train.columns, train.shape, len(train)))\n",
    "\n",
    "# Load the test dataset\n",
    "test = pd.read_csv('test.csv')\n",
    "\n",
    "# Print the columns, shape (rows and columns), and the length (number of rows) of the test set\n",
    "print(\"Test Set: Columns: {}, Shape: {}, Length: {}\".format(test.columns, test.shape, len(test)))"
   ]
  },
  {
   "cell_type": "code",
   "execution_count": 3,
   "metadata": {
    "id": "tNLlxP5xOFwR"
   },
   "outputs": [],
   "source": [
    "# Define a function to clean text data in a DataFrame\n",
    "def clean_text(df, text_field):\n",
    "    # Convert text to lowercase\n",
    "    df[text_field] = df[text_field].str.lower()\n",
    "    # Apply regex to remove unwanted characters and patterns\n",
    "    df[text_field] = df[text_field].apply(lambda elem: re.sub(\n",
    "        r\"(@[A-Za-z0-9]+)|([^0-9A-Za-z \\t])|(\\w+:\\/\\/\\S+)|^rt|http.+?\", \"\", elem))\n",
    "    return df\n",
    "\n",
    "# Clean the text data in the 'tweet' column of both the training and test datasets\n",
    "test_clean = clean_text(test, \"tweet\")\n",
    "train_clean = clean_text(train, \"tweet\")"
   ]
  },
  {
   "cell_type": "code",
   "execution_count": 4,
   "metadata": {
    "colab": {
     "base_uri": "https://localhost:8080/"
    },
    "id": "l5TRBek8OIkl",
    "outputId": "a89199e3-24e2-4481-aac9-492afef6c3db"
   },
   "outputs": [
    {
     "name": "stdout",
     "output_type": "stream",
     "text": [
      "label\n",
      "1    29720\n",
      "0    29720\n",
      "Name: count, dtype: int64\n"
     ]
    }
   ],
   "source": [
    "# Split the training data into majority and minority classes\n",
    "train_majority = train_clean[train_clean.label == 0]\n",
    "train_minority = train_clean[train_clean.label == 1]\n",
    "\n",
    "# Upsample the minority class to match the number of samples in the majority class\n",
    "train_minority_upsampled = resample(\n",
    "    train_minority, \n",
    "    replace=True,\n",
    "    n_samples=len(train_majority),\n",
    "    random_state=123\n",
    ")\n",
    "\n",
    "# Combine the majority class with the upsampled minority class\n",
    "train_upsampled = pd.concat([train_minority_upsampled, train_majority])\n",
    "\n",
    "# Check the distribution of the labels to ensure balanced classes\n",
    "label_counts = train_upsampled['label'].value_counts()\n",
    "print(label_counts)"
   ]
  },
  {
   "cell_type": "code",
   "execution_count": 5,
   "metadata": {
    "id": "3WuRcdi9OLXw"
   },
   "outputs": [],
   "source": [
    "# Define the pipeline with CountVectorizer, TfidfTransformer, and SGDClassifier\n",
    "pipeline_sgd = Pipeline([\n",
    "    ('vect', CountVectorizer()),\n",
    "    ('tfidf', TfidfTransformer()),\n",
    "    ('sgd', SGDClassifier(random_state=123))\n",
    "])"
   ]
  },
  {
   "cell_type": "code",
   "execution_count": 6,
   "metadata": {},
   "outputs": [],
   "source": [
    "# Split the data into training and validation sets\n",
    "X_train, X_val, y_train, y_val = train_test_split(\n",
    "    train_upsampled['tweet'], \n",
    "    train_upsampled['label'], \n",
    "    test_size=0.2, \n",
    "    random_state=123)"
   ]
  },
  {
   "cell_type": "code",
   "execution_count": 7,
   "metadata": {},
   "outputs": [
    {
     "name": "stdout",
     "output_type": "stream",
     "text": [
      "Accuracy: 0.96846\n",
      "Precision: 0.95224\n",
      "Recall: 0.98679\n",
      "F1 Score: 0.96921\n"
     ]
    }
   ],
   "source": [
    "# Train the model\n",
    "pipeline_sgd.fit(X_train, y_train)\n",
    "\n",
    "# Make predictions\n",
    "y_pred = pipeline_sgd.predict(X_val)\n",
    "\n",
    "# Evaluate the model\n",
    "accuracy = accuracy_score(y_val, y_pred)\n",
    "precision = precision_score(y_val, y_pred)\n",
    "recall = recall_score(y_val, y_pred)\n",
    "f1 = f1_score(y_val, y_pred)\n",
    "\n",
    "# Print evaluation metrics\n",
    "print(f'Accuracy: {accuracy:.5f}')\n",
    "print(f'Precision: {precision:.5f}')\n",
    "print(f'Recall: {recall:.5f}')\n",
    "print(f'F1 Score: {f1:.5f}')"
   ]
  },
  {
   "cell_type": "code",
   "execution_count": null,
   "metadata": {},
   "outputs": [],
   "source": []
  }
 ],
 "metadata": {
  "colab": {
   "provenance": []
  },
  "kernelspec": {
   "display_name": "Python 3 (ipykernel)",
   "language": "python",
   "name": "python3"
  },
  "language_info": {
   "codemirror_mode": {
    "name": "ipython",
    "version": 3
   },
   "file_extension": ".py",
   "mimetype": "text/x-python",
   "name": "python",
   "nbconvert_exporter": "python",
   "pygments_lexer": "ipython3",
   "version": "3.11.5"
  }
 },
 "nbformat": 4,
 "nbformat_minor": 1
}
