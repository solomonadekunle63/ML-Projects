{
 "cells": [
  {
   "cell_type": "markdown",
   "id": "97fca52d",
   "metadata": {},
   "source": [
    "# Email spam Detection with Machine Learning"
   ]
  },
  {
   "cell_type": "markdown",
   "id": "3eee00e4",
   "metadata": {},
   "source": [
    "## Import the libraries"
   ]
  },
  {
   "cell_type": "code",
   "execution_count": 1,
   "id": "1bb4f4ac",
   "metadata": {},
   "outputs": [],
   "source": [
    "import numpy as np\n",
    "import pandas as pd\n",
    "import nltk\n",
    "from nltk.corpus import stopwords\n",
    "import string\n",
    "from sklearn.feature_extraction.text import CountVectorizer\n",
    "from sklearn.model_selection import train_test_split\n",
    "from sklearn.naive_bayes import MultinomialNB\n",
    "from sklearn.metrics import (classification_report, accuracy_score, \n",
    "                             confusion_matrix, precision_score, \n",
    "                             recall_score, f1_score, \n",
    "                             roc_auc_score, roc_curve)"
   ]
  },
  {
   "cell_type": "markdown",
   "id": "935c05ea",
   "metadata": {},
   "source": [
    "## Load the data and print the first 5 rows"
   ]
  },
  {
   "cell_type": "code",
   "execution_count": 2,
   "id": "53483506",
   "metadata": {},
   "outputs": [
    {
     "data": {
      "text/html": [
       "<div>\n",
       "<style scoped>\n",
       "    .dataframe tbody tr th:only-of-type {\n",
       "        vertical-align: middle;\n",
       "    }\n",
       "\n",
       "    .dataframe tbody tr th {\n",
       "        vertical-align: top;\n",
       "    }\n",
       "\n",
       "    .dataframe thead th {\n",
       "        text-align: right;\n",
       "    }\n",
       "</style>\n",
       "<table border=\"1\" class=\"dataframe\">\n",
       "  <thead>\n",
       "    <tr style=\"text-align: right;\">\n",
       "      <th></th>\n",
       "      <th>text</th>\n",
       "      <th>spam</th>\n",
       "    </tr>\n",
       "  </thead>\n",
       "  <tbody>\n",
       "    <tr>\n",
       "      <th>0</th>\n",
       "      <td>Subject: naturally irresistible your corporate...</td>\n",
       "      <td>1</td>\n",
       "    </tr>\n",
       "    <tr>\n",
       "      <th>1</th>\n",
       "      <td>Subject: the stock trading gunslinger  fanny i...</td>\n",
       "      <td>1</td>\n",
       "    </tr>\n",
       "    <tr>\n",
       "      <th>2</th>\n",
       "      <td>Subject: unbelievable new homes made easy  im ...</td>\n",
       "      <td>1</td>\n",
       "    </tr>\n",
       "    <tr>\n",
       "      <th>3</th>\n",
       "      <td>Subject: 4 color printing special  request add...</td>\n",
       "      <td>1</td>\n",
       "    </tr>\n",
       "    <tr>\n",
       "      <th>4</th>\n",
       "      <td>Subject: do not have money , get software cds ...</td>\n",
       "      <td>1</td>\n",
       "    </tr>\n",
       "  </tbody>\n",
       "</table>\n",
       "</div>"
      ],
      "text/plain": [
       "                                                text  spam\n",
       "0  Subject: naturally irresistible your corporate...     1\n",
       "1  Subject: the stock trading gunslinger  fanny i...     1\n",
       "2  Subject: unbelievable new homes made easy  im ...     1\n",
       "3  Subject: 4 color printing special  request add...     1\n",
       "4  Subject: do not have money , get software cds ...     1"
      ]
     },
     "execution_count": 2,
     "metadata": {},
     "output_type": "execute_result"
    }
   ],
   "source": [
    "df = pd.read_csv(\"emails.csv\")\n",
    "df.head()"
   ]
  },
  {
   "cell_type": "code",
   "execution_count": 3,
   "id": "88b34656",
   "metadata": {},
   "outputs": [
    {
     "data": {
      "text/plain": [
       "(5728, 2)"
      ]
     },
     "execution_count": 3,
     "metadata": {},
     "output_type": "execute_result"
    }
   ],
   "source": [
    "df.shape"
   ]
  },
  {
   "cell_type": "code",
   "execution_count": 4,
   "id": "6c255c09",
   "metadata": {},
   "outputs": [
    {
     "data": {
      "text/plain": [
       "Index(['text', 'spam'], dtype='object')"
      ]
     },
     "execution_count": 4,
     "metadata": {},
     "output_type": "execute_result"
    }
   ],
   "source": [
    "df.columns"
   ]
  },
  {
   "cell_type": "markdown",
   "id": "be9fa52a",
   "metadata": {},
   "source": [
    "## Check for duplicates and remove them"
   ]
  },
  {
   "cell_type": "code",
   "execution_count": 5,
   "id": "5830a0ab",
   "metadata": {},
   "outputs": [
    {
     "name": "stdout",
     "output_type": "stream",
     "text": [
      "(5695, 2)\n"
     ]
    }
   ],
   "source": [
    "df.drop_duplicates(inplace=True)\n",
    "print(df.shape)"
   ]
  },
  {
   "cell_type": "markdown",
   "id": "68931118",
   "metadata": {},
   "source": [
    "## See the number of missing data for each column"
   ]
  },
  {
   "cell_type": "code",
   "execution_count": 6,
   "id": "989ae8f1",
   "metadata": {},
   "outputs": [
    {
     "name": "stdout",
     "output_type": "stream",
     "text": [
      "text    0\n",
      "spam    0\n",
      "dtype: int64\n"
     ]
    }
   ],
   "source": [
    "print(df.isnull().sum())"
   ]
  },
  {
   "cell_type": "markdown",
   "id": "a8395e34",
   "metadata": {},
   "source": [
    "## Download the stop words"
   ]
  },
  {
   "cell_type": "code",
   "execution_count": 7,
   "id": "b3c1d62f",
   "metadata": {},
   "outputs": [
    {
     "name": "stderr",
     "output_type": "stream",
     "text": [
      "[nltk_data] Downloading package stopwords to\n",
      "[nltk_data]     C:\\Users\\USER\\AppData\\Roaming\\nltk_data...\n",
      "[nltk_data]   Package stopwords is already up-to-date!\n"
     ]
    },
    {
     "data": {
      "text/plain": [
       "True"
      ]
     },
     "execution_count": 7,
     "metadata": {},
     "output_type": "execute_result"
    }
   ],
   "source": [
    "# download the stopwords package\n",
    "nltk.download(\"stopwords\")"
   ]
  },
  {
   "cell_type": "code",
   "execution_count": 8,
   "id": "d7cd220b",
   "metadata": {},
   "outputs": [
    {
     "name": "stdout",
     "output_type": "stream",
     "text": [
      "0    [Subject, naturally, irresistible, corporate, ...\n",
      "1    [Subject, stock, trading, gunslinger, fanny, m...\n",
      "2    [Subject, unbelievable, new, homes, made, easy...\n",
      "3    [Subject, 4, color, printing, special, request...\n",
      "4    [Subject, money, get, software, cds, software,...\n",
      "Name: text, dtype: object\n"
     ]
    }
   ],
   "source": [
    "# Define the process function to clean and tokenize the text\n",
    "def process(text):\n",
    "    # Remove punctuation from the text\n",
    "    nopunc = [char for char in text if char not in string.punctuation]\n",
    "    nopunc = ''.join(nopunc)\n",
    "\n",
    "    # Remove stopwords and convert words to lowercase\n",
    "    clean = [word for word in nopunc.split() if word.lower() not in stopwords.words('english')]\n",
    "    return clean\n",
    "\n",
    "# Apply the process function to the 'text' column of the DataFrame\n",
    "# This will tokenize the text in the 'text' column\n",
    "tokenized_text = df['text'].head().apply(process)\n",
    "\n",
    "# Print the tokenized text\n",
    "print(tokenized_text)"
   ]
  },
  {
   "cell_type": "markdown",
   "id": "4fbf9945",
   "metadata": {},
   "source": [
    "## convert the text into a matrix of token counts"
   ]
  },
  {
   "cell_type": "code",
   "execution_count": 9,
   "id": "32e88682",
   "metadata": {},
   "outputs": [],
   "source": [
    "# Create a CountVectorizer object with the analyzer set to the process function\n",
    "\n",
    "message = CountVectorizer(analyzer=process).fit_transform(df['text'])"
   ]
  },
  {
   "cell_type": "code",
   "execution_count": 10,
   "id": "97d4c2b1",
   "metadata": {},
   "outputs": [
    {
     "name": "stdout",
     "output_type": "stream",
     "text": [
      "(5695, 37229)\n"
     ]
    }
   ],
   "source": [
    "#split the data into 80% training and 20% testing\n",
    "xtrain, xtest, ytrain, ytest = train_test_split(message, df['spam'], test_size=0.20, random_state=0)\n",
    "\n",
    "# Print the shape of the data\n",
    "# This will print the number of rows and columns in the message matrix\n",
    "print(message.shape)"
   ]
  },
  {
   "cell_type": "code",
   "execution_count": 11,
   "id": "1e13bfee",
   "metadata": {},
   "outputs": [
    {
     "name": "stdout",
     "output_type": "stream",
     "text": [
      "[0 0 0 ... 0 0 0]\n",
      "[0 0 0 ... 0 0 0]\n"
     ]
    }
   ],
   "source": [
    "# Create and train the Naive Bayes Classifier\n",
    "classifier = MultinomialNB().fit(xtrain, ytrain)\n",
    "\n",
    "# Print the predictions on the training data\n",
    "print(classifier.predict(xtrain))\n",
    "\n",
    "# Print the actual labels of the training data\n",
    "print(ytrain.values)"
   ]
  },
  {
   "cell_type": "markdown",
   "id": "2f0f8fdf",
   "metadata": {},
   "source": [
    "## See the classifiers prediction and actual values on the data set"
   ]
  },
  {
   "cell_type": "code",
   "execution_count": 12,
   "id": "a86c9d90",
   "metadata": {},
   "outputs": [
    {
     "name": "stdout",
     "output_type": "stream",
     "text": [
      "Classification Report on Training Data:\n",
      "               precision    recall  f1-score   support\n",
      "\n",
      "           0       1.00      1.00      1.00      3457\n",
      "           1       0.99      1.00      0.99      1099\n",
      "\n",
      "    accuracy                           1.00      4556\n",
      "   macro avg       0.99      1.00      1.00      4556\n",
      "weighted avg       1.00      1.00      1.00      4556\n",
      "\n",
      "\n",
      "Confusion Matrix on Training Data:\n",
      " [[3445   12]\n",
      " [   1 1098]]\n",
      "\n",
      "Accuracy on Training Data: 0.9971466198419666\n"
     ]
    }
   ],
   "source": [
    "# Evaluate the model on the training dataset\n",
    "pred = classifier.predict(xtrain)\n",
    "\n",
    "# Print the classification report, which includes precision, recall, F1-score, and support\n",
    "print(\"Classification Report on Training Data:\\n\", classification_report(ytrain, pred))\n",
    "\n",
    "# Print the confusion matrix\n",
    "print(\"\\nConfusion Matrix on Training Data:\\n\", confusion_matrix(ytrain, pred))\n",
    "\n",
    "# Print the accuracy score\n",
    "print(\"\\nAccuracy on Training Data:\", accuracy_score(ytrain, pred))"
   ]
  },
  {
   "cell_type": "code",
   "execution_count": 13,
   "id": "e125bfd4",
   "metadata": {},
   "outputs": [
    {
     "name": "stdout",
     "output_type": "stream",
     "text": [
      "[1 0 0 ... 0 0 0]\n",
      "[1 0 0 ... 0 0 0]\n"
     ]
    }
   ],
   "source": [
    "#print the predictions\n",
    "print(classifier.predict(xtest))\n",
    "\n",
    "#print the actual values\n",
    "print(ytest.values)"
   ]
  },
  {
   "cell_type": "markdown",
   "id": "8fcbc1f4",
   "metadata": {},
   "source": [
    "## evaluate the model on the test data set"
   ]
  },
  {
   "cell_type": "code",
   "execution_count": 15,
   "id": "a6b1decc",
   "metadata": {},
   "outputs": [
    {
     "name": "stdout",
     "output_type": "stream",
     "text": [
      "Classification Report on Test Data:\n",
      "               precision    recall  f1-score   support\n",
      "\n",
      "           0       1.00      0.99      0.99       870\n",
      "           1       0.97      1.00      0.98       269\n",
      "\n",
      "    accuracy                           0.99      1139\n",
      "   macro avg       0.98      0.99      0.99      1139\n",
      "weighted avg       0.99      0.99      0.99      1139\n",
      "\n"
     ]
    }
   ],
   "source": [
    "# Evaluate the model on the test dataset\n",
    "pred = classifier.predict(xtest)\n",
    "\n",
    "# Print the classification report, which includes precision, recall, F1-score, and support\n",
    "print(\"Classification Report on Test Data:\\n\", classification_report(ytest, pred))"
   ]
  },
  {
   "cell_type": "code",
   "execution_count": 16,
   "id": "3ddcee95",
   "metadata": {},
   "outputs": [
    {
     "name": "stdout",
     "output_type": "stream",
     "text": [
      "\n",
      "Confusion Matrix on Test Data:\n",
      " [[862   8]\n",
      " [  1 268]]\n",
      "\n",
      "Accuracy on Test Data: 0.9920983318700615\n"
     ]
    }
   ],
   "source": [
    "# Print the confusion matrix\n",
    "print(\"\\nConfusion Matrix on Test Data:\\n\", confusion_matrix(ytest, pred))\n",
    "\n",
    "# Print the accuracy score\n",
    "print(\"\\nAccuracy on Test Data:\", accuracy_score(ytest, pred))"
   ]
  },
  {
   "cell_type": "code",
   "execution_count": null,
   "id": "a4399864",
   "metadata": {},
   "outputs": [],
   "source": []
  }
 ],
 "metadata": {
  "kernelspec": {
   "display_name": "Python 3 (ipykernel)",
   "language": "python",
   "name": "python3"
  },
  "language_info": {
   "codemirror_mode": {
    "name": "ipython",
    "version": 3
   },
   "file_extension": ".py",
   "mimetype": "text/x-python",
   "name": "python",
   "nbconvert_exporter": "python",
   "pygments_lexer": "ipython3",
   "version": "3.11.5"
  }
 },
 "nbformat": 4,
 "nbformat_minor": 5
}
