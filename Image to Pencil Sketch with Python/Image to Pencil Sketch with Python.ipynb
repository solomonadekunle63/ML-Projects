{
 "cells": [
  {
   "cell_type": "markdown",
   "id": "b116bb44",
   "metadata": {},
   "source": [
    "# Pencil Sketch with Python"
   ]
  },
  {
   "cell_type": "code",
   "execution_count": 1,
   "id": "e701998b",
   "metadata": {
    "scrolled": true
   },
   "outputs": [],
   "source": [
    "import cv2"
   ]
  },
  {
   "cell_type": "code",
   "execution_count": 2,
   "id": "d36c30fe",
   "metadata": {},
   "outputs": [],
   "source": [
    "# Read the image\n",
    "image = cv2.imread(\"cat.jpg\")\n",
    "\n",
    "# Display the image in a window\n",
    "cv2.imshow(\"cat\", image)\n",
    "\n",
    "# Wait for a key press to close the window\n",
    "cv2.waitKey(0)\n",
    "\n",
    "# Close all OpenCV windows\n",
    "cv2.destroyAllWindows()"
   ]
  },
  {
   "cell_type": "code",
   "execution_count": 3,
   "id": "e45bb7aa",
   "metadata": {},
   "outputs": [],
   "source": [
    "# Read the original color image\n",
    "image = cv2.imread(\"cat.jpg\")\n",
    "\n",
    "# Convert the color image to grayscale\n",
    "gray_image = cv2.cvtColor(image, cv2.COLOR_BGR2GRAY)\n",
    "\n",
    "# Display the grayscale image in a window\n",
    "cv2.imshow(\"New Cat\", gray_image)\n",
    "\n",
    "# Wait for a key press to close the window\n",
    "cv2.waitKey(0)\n",
    "\n",
    "# Close all OpenCV windows\n",
    "cv2.destroyAllWindows()"
   ]
  },
  {
   "cell_type": "code",
   "execution_count": 4,
   "id": "0a73f3d0",
   "metadata": {},
   "outputs": [],
   "source": [
    "# Read the grayscale image\n",
    "gray_image = cv2.imread(\"cat.jpg\", cv2.IMREAD_GRAYSCALE)\n",
    "\n",
    "# Invert the grayscale image\n",
    "inverted_image = 255 - gray_image\n",
    "\n",
    "# Display the inverted image in a window\n",
    "cv2.imshow(\"Inverted\", inverted_image)\n",
    "\n",
    "# Wait for any key press to close the window\n",
    "cv2.waitKey(0)\n",
    "\n",
    "# Close all OpenCV windows\n",
    "cv2.destroyAllWindows()"
   ]
  },
  {
   "cell_type": "code",
   "execution_count": 5,
   "id": "718a5806",
   "metadata": {},
   "outputs": [],
   "source": [
    "# Apply Gaussian blur to the inverted image\n",
    "blurred = cv2.GaussianBlur(inverted_image, (21, 21), 0)"
   ]
  },
  {
   "cell_type": "code",
   "execution_count": 6,
   "id": "b6a7b4b3",
   "metadata": {},
   "outputs": [
    {
     "data": {
      "text/plain": [
       "-1"
      ]
     },
     "execution_count": 6,
     "metadata": {},
     "output_type": "execute_result"
    }
   ],
   "source": [
    "# Read the original image\n",
    "image = cv2.imread(\"cat.jpg\")\n",
    "\n",
    "# Convert the image to grayscale\n",
    "gray_image = cv2.cvtColor(image, cv2.COLOR_BGR2GRAY)\n",
    "\n",
    "# Invert the grayscale image\n",
    "inverted_image = 255 - gray_image\n",
    "\n",
    "# Apply Gaussian blur to the inverted image\n",
    "blurred = cv2.GaussianBlur(inverted_image, (21, 21), 0)\n",
    "\n",
    "# Divide the grayscale image by the inverted blurred image to create the pencil sketch effect\n",
    "inverted_blurred = 255 - blurred\n",
    "pencil_sketch = cv2.divide(gray_image, inverted_blurred, scale=256.0)\n",
    "\n",
    "# Display the pencil sketch\n",
    "cv2.imshow(\"Sketch\", pencil_sketch)\n",
    "cv2.waitKey(0)"
   ]
  },
  {
   "cell_type": "code",
   "execution_count": 7,
   "id": "86e27af6",
   "metadata": {},
   "outputs": [
    {
     "data": {
      "text/plain": [
       "-1"
      ]
     },
     "execution_count": 7,
     "metadata": {},
     "output_type": "execute_result"
    }
   ],
   "source": [
    "# Display the original image\n",
    "cv2.imshow(\"Original Image\", image)\n",
    "cv2.waitKey(1000)\n",
    "\n",
    "# Display the pencil sketch\n",
    "cv2.imshow(\"Pencil Sketch\", pencil_sketch)\n",
    "cv2.waitKey(0)"
   ]
  },
  {
   "cell_type": "code",
   "execution_count": null,
   "id": "732eba08",
   "metadata": {},
   "outputs": [],
   "source": []
  }
 ],
 "metadata": {
  "kernelspec": {
   "display_name": "Python 3 (ipykernel)",
   "language": "python",
   "name": "python3"
  },
  "language_info": {
   "codemirror_mode": {
    "name": "ipython",
    "version": 3
   },
   "file_extension": ".py",
   "mimetype": "text/x-python",
   "name": "python",
   "nbconvert_exporter": "python",
   "pygments_lexer": "ipython3",
   "version": "3.11.5"
  }
 },
 "nbformat": 4,
 "nbformat_minor": 5
}
